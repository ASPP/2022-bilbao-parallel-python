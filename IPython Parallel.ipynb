{
 "cells": [
  {
   "cell_type": "markdown",
   "id": "cfac5623",
   "metadata": {},
   "source": [
    "## Brief HowTo\n",
    "- start the controller `ipcontroller --ip=<ip address>`\n",
    "- copy the `ipcontroller-engine.json` to the correct folder on the engine machines (usually something like `/home/<user>/.ipython/profile_default/security/`)\n",
    "- start the engines `ipcluster engines --n=<number of processes>`\n",
    "- you can connect to the controller from a notebook on the same machine with `import ipyparallel as ipp; rc = ipp.Client()`\n",
    "- executing `rc.ids` should show the ids of all connected engines"
   ]
  },
  {
   "cell_type": "code",
   "execution_count": 60,
   "id": "37ecc36f",
   "metadata": {},
   "outputs": [],
   "source": [
    "f = lambda x: x ** 4 - 3 * x"
   ]
  },
  {
   "cell_type": "code",
   "execution_count": 61,
   "id": "88c2da56",
   "metadata": {},
   "outputs": [],
   "source": [
    "def integrate(f, a, b, n):\n",
    "    dx = (b - a) / n\n",
    "    s = 0.0\n",
    "    x = a + 0.5 * dx\n",
    "    for i in range(n):\n",
    "        y = f(x)\n",
    "        s += y\n",
    "        x += dx\n",
    "    return s * dx"
   ]
  },
  {
   "cell_type": "code",
   "execution_count": 151,
   "id": "7203e42f",
   "metadata": {},
   "outputs": [],
   "source": [
    "ns = [16_000_000] * 8"
   ]
  },
  {
   "cell_type": "code",
   "execution_count": 1,
   "id": "02cbc37a",
   "metadata": {},
   "outputs": [],
   "source": [
    "import ipyparallel as ipp\n",
    "rc = ipp.Client()"
   ]
  },
  {
   "cell_type": "code",
   "execution_count": 2,
   "id": "cbaa2db6",
   "metadata": {},
   "outputs": [
    {
     "data": {
      "text/plain": [
       "[0, 1, 2, 3]"
      ]
     },
     "execution_count": 2,
     "metadata": {},
     "output_type": "execute_result"
    }
   ],
   "source": [
    "rc.ids"
   ]
  },
  {
   "cell_type": "code",
   "execution_count": 158,
   "id": "badcba1c",
   "metadata": {},
   "outputs": [
    {
     "data": {
      "text/plain": [
       "True"
      ]
     },
     "execution_count": 158,
     "metadata": {},
     "output_type": "execute_result"
    }
   ],
   "source": [
    "dview = rc[:]\n",
    "dview.push({'f': f, 'integrate': integrate}).wait()"
   ]
  },
  {
   "cell_type": "code",
   "execution_count": 152,
   "id": "fcaa5eb1",
   "metadata": {},
   "outputs": [
    {
     "name": "stdout",
     "output_type": "stream",
     "text": [
      "CPU times: user 27.1 s, sys: 0 ns, total: 27.1 s\n",
      "Wall time: 26.4 s\n"
     ]
    },
    {
     "data": {
      "text/plain": [
       "[12.800000002034913,\n",
       " 12.800000002034913,\n",
       " 12.800000002034913,\n",
       " 12.800000002034913,\n",
       " 12.800000002034913,\n",
       " 12.800000002034913,\n",
       " 12.800000002034913,\n",
       " 12.800000002034913]"
      ]
     },
     "execution_count": 152,
     "metadata": {},
     "output_type": "execute_result"
    }
   ],
   "source": [
    "%%time\n",
    "serial_result = list(map(lambda n: integrate(f, -2, 2, n), ns))\n",
    "serial_result"
   ]
  },
  {
   "cell_type": "code",
   "execution_count": 159,
   "id": "fb9bcfce",
   "metadata": {},
   "outputs": [
    {
     "name": "stdout",
     "output_type": "stream",
     "text": [
      "CPU times: user 109 ms, sys: 126 ms, total: 235 ms\n",
      "Wall time: 4.87 s\n"
     ]
    },
    {
     "data": {
      "text/plain": [
       "[12.800000002034913,\n",
       " 12.800000002034913,\n",
       " 12.800000002034913,\n",
       " 12.800000002034913,\n",
       " 12.800000002034913,\n",
       " 12.800000002034913,\n",
       " 12.800000002034913,\n",
       " 12.800000002034913]"
      ]
     },
     "execution_count": 159,
     "metadata": {},
     "output_type": "execute_result"
    }
   ],
   "source": [
    "%%time\n",
    "dview = rc[:]\n",
    "parallel_result = dview.map_sync(lambda n: integrate(f, -2, 2, n), ns)\n",
    "parallel_result"
   ]
  },
  {
   "cell_type": "code",
   "execution_count": null,
   "id": "50ead872",
   "metadata": {},
   "outputs": [],
   "source": []
  }
 ],
 "metadata": {
  "kernelspec": {
   "display_name": "Python 3 (ipykernel)",
   "language": "python",
   "name": "python3"
  },
  "language_info": {
   "codemirror_mode": {
    "name": "ipython",
    "version": 3
   },
   "file_extension": ".py",
   "mimetype": "text/x-python",
   "name": "python",
   "nbconvert_exporter": "python",
   "pygments_lexer": "ipython3",
   "version": "3.8.12"
  }
 },
 "nbformat": 4,
 "nbformat_minor": 5
}
