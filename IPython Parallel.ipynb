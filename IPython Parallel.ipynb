{
 "cells": [
  {
   "cell_type": "markdown",
   "id": "2826ff1b",
   "metadata": {},
   "source": [
    "## Brief HowTo\n",
    "- start the controller `ipcontroller --ip=<ip address>`\n",
    "- copy the `ipcontroller-engine.json` to the correct folder on the engine machines (usually something like `/home/<user>/.ipython/profile_default/security/`)\n",
    "- start the engines `ipcluster engines --n=<number of processes>`\n",
    "- you can connect to the controller from a notebook on the same machine with `import ipyparallel as ipp; rc = ipp.Client()`\n",
    "- executing `rc.ids` should show the ids of all connected engines"
   ]
  },
  {
   "cell_type": "code",
   "execution_count": 60,
   "id": "c533d63d",
   "metadata": {},
   "outputs": [],
   "source": [
    "f = lambda x: x ** 4 - 3 * x"
   ]
  },
  {
   "cell_type": "code",
   "execution_count": 61,
   "id": "e9987508",
   "metadata": {},
   "outputs": [],
   "source": [
    "def integrate(f, a, b, n):\n",
    "    dx = (b - a) / n\n",
    "    s = 0.0\n",
    "    x = a + 0.5 * dx\n",
    "    for i in range(n):\n",
    "        y = f(x)\n",
    "        s += y\n",
    "        x += dx\n",
    "    return s * dx"
   ]
  },
  {
   "cell_type": "code",
   "execution_count": 134,
   "id": "9dcfafc8",
   "metadata": {},
   "outputs": [],
   "source": [
    "ns = [1_000_000, 2_000_000, 4_000_000, 8_000_000, 12_000_000, 16_000_000, 20_000_000, 24_000_000]"
   ]
  },
  {
   "cell_type": "code",
   "execution_count": 135,
   "id": "aebbf247",
   "metadata": {},
   "outputs": [],
   "source": [
    "import ipyparallel as ipp\n",
    "rc = ipp.Client(profile=\"aspp\")"
   ]
  },
  {
   "cell_type": "code",
   "execution_count": 144,
   "id": "0bd2f6f0",
   "metadata": {},
   "outputs": [
    {
     "data": {
      "text/plain": [
       "[4, 5, 6, 7]"
      ]
     },
     "execution_count": 144,
     "metadata": {},
     "output_type": "execute_result"
    }
   ],
   "source": [
    "rc.ids"
   ]
  },
  {
   "cell_type": "code",
   "execution_count": 142,
   "id": "45a60d59",
   "metadata": {},
   "outputs": [
    {
     "data": {
      "text/plain": [
       "True"
      ]
     },
     "execution_count": 142,
     "metadata": {},
     "output_type": "execute_result"
    }
   ],
   "source": [
    "dview = rc[:]\n",
    "dview.push({'f': f, 'integrate': integrate}).wait()"
   ]
  },
  {
   "cell_type": "code",
   "execution_count": 138,
   "id": "77ab68b4",
   "metadata": {},
   "outputs": [
    {
     "name": "stdout",
     "output_type": "stream",
     "text": [
      "CPU times: user 18 s, sys: 0 ns, total: 18 s\n",
      "Wall time: 17.7 s\n"
     ]
    },
    {
     "data": {
      "text/plain": [
       "[12.799999999772574,\n",
       " 12.799999999960521,\n",
       " 12.799999999518676,\n",
       " 12.800000000348296,\n",
       " 12.800000002220681,\n",
       " 12.800000002034913,\n",
       " 12.799999996525015,\n",
       " 12.800000003016375]"
      ]
     },
     "execution_count": 138,
     "metadata": {},
     "output_type": "execute_result"
    }
   ],
   "source": [
    "%%time\n",
    "serial_result = list(map(lambda n: integrate(f, -2, 2, n), ns))\n",
    "serial_result"
   ]
  },
  {
   "cell_type": "code",
   "execution_count": 145,
   "id": "dbe10cc2",
   "metadata": {},
   "outputs": [
    {
     "name": "stdout",
     "output_type": "stream",
     "text": [
      "CPU times: user 98.2 ms, sys: 152 ms, total: 250 ms\n",
      "Wall time: 9.85 s\n"
     ]
    },
    {
     "data": {
      "text/plain": [
       "[12.799999999772574,\n",
       " 12.799999999960521,\n",
       " 12.799999999518676,\n",
       " 12.800000000348296,\n",
       " 12.800000002220681,\n",
       " 12.800000002034913,\n",
       " 12.799999996525015,\n",
       " 12.800000003016375]"
      ]
     },
     "execution_count": 145,
     "metadata": {},
     "output_type": "execute_result"
    }
   ],
   "source": [
    "%%time\n",
    "dview = rc[:]\n",
    "parallel_result = dview.map_sync(lambda n: integrate(f, -2, 2, n), ns)\n",
    "parallel_result"
   ]
  },
  {
   "cell_type": "code",
   "execution_count": null,
   "id": "f1650ab6",
   "metadata": {},
   "outputs": [],
   "source": []
  }
 ],
 "metadata": {
  "kernelspec": {
   "display_name": "Python 3 (ipykernel)",
   "language": "python",
   "name": "python3"
  },
  "language_info": {
   "codemirror_mode": {
    "name": "ipython",
    "version": 3
   },
   "file_extension": ".py",
   "mimetype": "text/x-python",
   "name": "python",
   "nbconvert_exporter": "python",
   "pygments_lexer": "ipython3",
   "version": "3.10.6"
  }
 },
 "nbformat": 4,
 "nbformat_minor": 5
}
