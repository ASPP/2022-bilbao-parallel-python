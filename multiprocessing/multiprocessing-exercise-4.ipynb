{
 "cells": [
  {
   "cell_type": "markdown",
   "id": "dd237c27",
   "metadata": {},
   "source": [
    "### Step 0\n",
    "\n",
    "Copy your compute-bound function and inputs from before."
   ]
  },
  {
   "cell_type": "code",
   "execution_count": null,
   "id": "23a8b3e4",
   "metadata": {},
   "outputs": [],
   "source": [
    "def crunch_numbers(x):\n",
    "    pass  # TODO replace with some number crunching"
   ]
  },
  {
   "cell_type": "code",
   "execution_count": null,
   "id": "7e72cc44",
   "metadata": {},
   "outputs": [],
   "source": [
    "input_data = ... # TODO a list of inputs for your `crunch_numbers` function"
   ]
  },
  {
   "cell_type": "markdown",
   "id": "44f45416",
   "metadata": {},
   "source": [
    "### Step 1\n",
    "Use the `(Process)Pool` to parallelize your code. Time it and compare execution times."
   ]
  },
  {
   "cell_type": "code",
   "execution_count": null,
   "id": "2727d479",
   "metadata": {},
   "outputs": [],
   "source": [
    "from multiprocessing.pool import Pool as ProcessPool"
   ]
  },
  {
   "cell_type": "code",
   "execution_count": null,
   "id": "2f940649",
   "metadata": {},
   "outputs": [],
   "source": [
    "%%time\n",
    "# TODO implement a process-parallel version"
   ]
  },
  {
   "cell_type": "markdown",
   "id": "67cea647",
   "metadata": {},
   "source": [
    "### Step 2\n",
    "Now, compare its runtime for different numbers of processes."
   ]
  },
  {
   "cell_type": "code",
   "execution_count": null,
   "id": "7457b398",
   "metadata": {},
   "outputs": [],
   "source": [
    "from multiprocessing.pool import Pool as ProcessPool\n",
    "import time\n",
    "\n",
    "# TODO replace with meaningful input to your function; keep in mind\n",
    "# that the \"load\" on each process should be approximately balanced\n",
    "# to observe (close to) ideal speedups\n",
    "input_data = []\n",
    "\n",
    "n_processes = np.arange(1, 9)\n",
    "times = []\n",
    "for n in n_processes:\n",
    "    t0 = time.time()\n",
    "    # TODO implement process-parallel number crunching using a `ProcessPool` **here**\n",
    "    times.append(time.time() - t0)\n",
    "\n",
    "times"
   ]
  },
  {
   "cell_type": "code",
   "execution_count": null,
   "id": "d7927018",
   "metadata": {},
   "outputs": [],
   "source": [
    "# TODO execute me after the cell above\n",
    "import matplotlib.pyplot as plt\n",
    "import numpy as np\n",
    "\n",
    "times = np.array(times)\n",
    "fig, axes = plt.subplots()\n",
    "axes.plot(n_processes, 1.0 * n_processes, color='k', linestyle='--', label='ideal')\n",
    "axes.plot(n_processes, times[0] / times, marker='o', label='measured')\n",
    "axes.set_xlabel(r'$n$ processes')\n",
    "axes.set_ylabel('relative speedup')\n",
    "fig.legend()"
   ]
  },
  {
   "cell_type": "markdown",
   "id": "cecfc7d1",
   "metadata": {},
   "source": [
    "### Step 3 (bonus exercise)\n",
    "Investigate the speedup for\n",
    "- short compute-bound functions, i.e., when a single function call doesn't take much time\n",
    "- unbalanced problems, i.e., scenarios in which most results are fast to compute, but some take long\n",
    "\n",
    "Discuss."
   ]
  }
 ],
 "metadata": {
  "kernelspec": {
   "display_name": "Python 3 (ipykernel)",
   "language": "python",
   "name": "python3"
  },
  "language_info": {
   "codemirror_mode": {
    "name": "ipython",
    "version": 3
   },
   "file_extension": ".py",
   "mimetype": "text/x-python",
   "name": "python",
   "nbconvert_exporter": "python",
   "pygments_lexer": "ipython3",
   "version": "3.8.12"
  }
 },
 "nbformat": 4,
 "nbformat_minor": 5
}
