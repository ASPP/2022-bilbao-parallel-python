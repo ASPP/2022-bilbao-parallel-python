{
 "cells": [
  {
   "cell_type": "markdown",
   "id": "bb3a24c6",
   "metadata": {},
   "source": [
    "Let's go back to the authentication library you wrote in the beginning of the week. Before trying to authenticate a user, it's a good idea to first check whether an account with a given username exists. Here we mimick this check.\n",
    "\n",
    "First import `auth` and check the arguments and return value of the function `check_user_exists`."
   ]
  },
  {
   "cell_type": "code",
   "execution_count": null,
   "id": "192019fe",
   "metadata": {},
   "outputs": [],
   "source": [
    "import auth\n",
    "help(auth.check_user_exists)"
   ]
  },
  {
   "cell_type": "markdown",
   "id": "91616f28",
   "metadata": {},
   "source": [
    "### Step 0\n",
    "Implement a serial version using `map`, processing several (4+) usernames. Time it."
   ]
  },
  {
   "cell_type": "code",
   "execution_count": null,
   "id": "28f7f9fb",
   "metadata": {},
   "outputs": [],
   "source": [
    "%%time\n",
    "usernames = []  # TODO add some usernames\n",
    "# TODO implement a serial version"
   ]
  },
  {
   "cell_type": "markdown",
   "id": "2dbda9fc",
   "metadata": {},
   "source": [
    "### Step 1\n",
    "Use the `ThreadPool` to parallelize your code. Time it and compare execution times."
   ]
  },
  {
   "cell_type": "code",
   "execution_count": null,
   "id": "54f45ec7",
   "metadata": {},
   "outputs": [],
   "source": [
    "from multiprocessing.pool import ThreadPool"
   ]
  },
  {
   "cell_type": "code",
   "execution_count": null,
   "id": "9d86ecd1",
   "metadata": {},
   "outputs": [],
   "source": [
    "%%time\n",
    "# TODO implement a thread-parallel version"
   ]
  }
 ],
 "metadata": {
  "kernelspec": {
   "display_name": "Python 3 (ipykernel)",
   "language": "python",
   "name": "python3"
  },
  "language_info": {
   "codemirror_mode": {
    "name": "ipython",
    "version": 3
   },
   "file_extension": ".py",
   "mimetype": "text/x-python",
   "name": "python",
   "nbconvert_exporter": "python",
   "pygments_lexer": "ipython3",
   "version": "3.8.12"
  }
 },
 "nbformat": 4,
 "nbformat_minor": 5
}
