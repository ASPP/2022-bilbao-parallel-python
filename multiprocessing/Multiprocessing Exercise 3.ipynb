{
 "cells": [
  {
   "cell_type": "markdown",
   "id": "824f3efc",
   "metadata": {},
   "source": [
    "### Step 0\n",
    "Implement your own compute-bound function, e.g., a function that computes the sum of cubes for a range of numbers using a for loop.\n",
    "\n",
    "Note: please do not use any external libraries or smart algorithms. ;)"
   ]
  },
  {
   "cell_type": "code",
   "execution_count": null,
   "id": "8f545181",
   "metadata": {},
   "outputs": [],
   "source": [
    "def crunch_numbers(x):\n",
    "    pass  # TODO replace with some number crunching"
   ]
  },
  {
   "cell_type": "markdown",
   "id": "0965ca80",
   "metadata": {},
   "source": [
    "### Step 1\n",
    "Now you want to crunch numbers multiple times, e.g., for different ranges (`x` in the code above).\n",
    "\n",
    "Implement a serial version."
   ]
  },
  {
   "cell_type": "code",
   "execution_count": null,
   "id": "63851d08",
   "metadata": {},
   "outputs": [],
   "source": [
    "input_data = ... # TODO a list of inputs for your `crunch_numbers` function"
   ]
  },
  {
   "cell_type": "code",
   "execution_count": null,
   "id": "51cae945",
   "metadata": {},
   "outputs": [],
   "source": [
    "%%time\n",
    "# TODO implement a serial version"
   ]
  },
  {
   "cell_type": "markdown",
   "id": "ce8ac329",
   "metadata": {},
   "source": [
    "### Step 2\n",
    "\n",
    "Now use the `ThreadPool` to parallelize your code. Time it and compare execution times.\n",
    "\n",
    "Do you observe a speedup?"
   ]
  },
  {
   "cell_type": "code",
   "execution_count": null,
   "id": "5a94fd97",
   "metadata": {},
   "outputs": [],
   "source": [
    "from multiprocessing.pool import ThreadPool"
   ]
  },
  {
   "cell_type": "code",
   "execution_count": null,
   "id": "479aee0f",
   "metadata": {},
   "outputs": [],
   "source": [
    "%%time\n",
    "# TODO implement a thread-parallel version"
   ]
  }
 ],
 "metadata": {
  "kernelspec": {
   "display_name": "Python 3 (ipykernel)",
   "language": "python",
   "name": "python3"
  },
  "language_info": {
   "codemirror_mode": {
    "name": "ipython",
    "version": 3
   },
   "file_extension": ".py",
   "mimetype": "text/x-python",
   "name": "python",
   "nbconvert_exporter": "python",
   "pygments_lexer": "ipython3",
   "version": "3.8.12"
  }
 },
 "nbformat": 4,
 "nbformat_minor": 5
}
