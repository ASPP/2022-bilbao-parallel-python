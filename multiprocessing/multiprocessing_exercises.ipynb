{
 "cells": [
  {
   "cell_type": "markdown",
   "id": "9e2c1510",
   "metadata": {},
   "source": [
    "# Exercise 1\n",
    "### Step 0\n",
    "Compute the cubes of numbers 0..9 using `map`."
   ]
  },
  {
   "cell_type": "code",
   "execution_count": null,
   "id": "af390002",
   "metadata": {},
   "outputs": [],
   "source": [
    "input_data = range(10)\n",
    "# TODO compute cubes"
   ]
  },
  {
   "cell_type": "markdown",
   "id": "092f214c",
   "metadata": {},
   "source": [
    "# Exercise 2\n",
    "Before trying to authenticate a user, it's a good idea to first check whether an account with a given username exists. Here we mimick this check. First import `check_user_exists` and check its arguments and return value."
   ]
  },
  {
   "cell_type": "code",
   "execution_count": 1,
   "id": "94195303",
   "metadata": {},
   "outputs": [],
   "source": [
    "import auth\n",
    "auth.check_user_exists?"
   ]
  },
  {
   "cell_type": "markdown",
   "id": "7b26a21e",
   "metadata": {},
   "source": [
    "### Step 0\n",
    "Implement a serial version using `map`, processing several (4+) usernames. Time it."
   ]
  },
  {
   "cell_type": "code",
   "execution_count": null,
   "id": "a866e518",
   "metadata": {},
   "outputs": [],
   "source": [
    "%%time\n",
    "usernames = []  # TODO add some usernames\n",
    "# TODO implement a serial version"
   ]
  },
  {
   "cell_type": "markdown",
   "id": "b0f4d4ea",
   "metadata": {},
   "source": [
    "### Step 1\n",
    "Use the `ThreadPool` to parallelize your code. Time it and compare execution times."
   ]
  },
  {
   "cell_type": "code",
   "execution_count": null,
   "id": "a975c466",
   "metadata": {},
   "outputs": [],
   "source": [
    "from multiprocessing.pool import ThreadPool"
   ]
  },
  {
   "cell_type": "code",
   "execution_count": null,
   "id": "dc195c50",
   "metadata": {},
   "outputs": [],
   "source": [
    "%%time\n",
    "# TODO implement a thread-parallel version"
   ]
  },
  {
   "cell_type": "markdown",
   "id": "cde87584",
   "metadata": {},
   "source": [
    "# Exercise 3\n",
    "### Step 0\n",
    "Implement your own compute-bound function. Remember that `sleep` won't work, becauase it releases the GIL!"
   ]
  },
  {
   "cell_type": "code",
   "execution_count": null,
   "id": "dbd5eff5",
   "metadata": {},
   "outputs": [],
   "source": [
    "def crunch_numbers(x):\n",
    "    pass  # TODO replace with some number crunching"
   ]
  },
  {
   "cell_type": "markdown",
   "id": "b6e19d04",
   "metadata": {},
   "source": [
    "### Step 1\n",
    "Compare its runtime for different numbers of processes, similar as in our example above."
   ]
  },
  {
   "cell_type": "code",
   "execution_count": null,
   "id": "980e45aa",
   "metadata": {},
   "outputs": [],
   "source": [
    "from multiprocessing.pool import Pool as ProcessPool\n",
    "import time\n",
    "\n",
    "# TODO replace with meaningful input to your function; keep in mind\n",
    "# that the \"load\" on each process should be approximately balanced\n",
    "# to observe (close to) optimal speedups\n",
    "input_data = []\n",
    "n_processes = np.arange(1, 9)\n",
    "times = []\n",
    "for n in n_processes:\n",
    "    t0 = time.time()\n",
    "    # TODO implement parallel number crunching using a `ProcessPool` **here**\n",
    "    times.append(time.time() - t0)\n",
    "\n",
    "times"
   ]
  },
  {
   "cell_type": "code",
   "execution_count": null,
   "id": "15d2f676",
   "metadata": {},
   "outputs": [],
   "source": [
    "import matplotlib.pyplot as plt\n",
    "import numpy as np\n",
    "\n",
    "times = np.array(times)\n",
    "fig, axes = plt.subplots()\n",
    "axes.plot(n_processes, 1.0 * n_processes, color='k', linestyle='--', label='ideal')\n",
    "axes.plot(n_processes, times[0] / times, marker='o', label='measured')\n",
    "axes.set_xlabel(r'$n$ processes')\n",
    "axes.set_ylabel('relative speedup')\n",
    "fig.legend()"
   ]
  },
  {
   "cell_type": "markdown",
   "id": "9aa7ec91",
   "metadata": {},
   "source": [
    "### Step 2\n",
    "Investigate the speedup for\n",
    "- short compute-bound functions, i.e., when a single function call doesn't take much time\n",
    "- unbalanced problems, i.e., scenarios in which most results are fast to compute, but some take long\n",
    "\n",
    "Discuss."
   ]
  }
 ],
 "metadata": {
  "kernelspec": {
   "display_name": "Python 3 (ipykernel)",
   "language": "python",
   "name": "python3"
  },
  "language_info": {
   "codemirror_mode": {
    "name": "ipython",
    "version": 3
   },
   "file_extension": ".py",
   "mimetype": "text/x-python",
   "name": "python",
   "nbconvert_exporter": "python",
   "pygments_lexer": "ipython3",
   "version": "3.10.6"
  }
 },
 "nbformat": 4,
 "nbformat_minor": 5
}
