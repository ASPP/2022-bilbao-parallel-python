{
 "cells": [
  {
   "cell_type": "code",
   "execution_count": null,
   "id": "0b675759",
   "metadata": {},
   "outputs": [],
   "source": [
    "!rsync -v 'student@172.25.224.89:.ipython/profile_default/security/ipcontroller-*.json' ~/.ipython/profile_default/security/"
   ]
  },
  {
   "cell_type": "code",
   "execution_count": null,
   "id": "398e06db",
   "metadata": {},
   "outputs": [],
   "source": [
    "!pygmentize /home/zbyszek/.ipython/profile_default/security/ipcontroller-engine.json "
   ]
  },
  {
   "cell_type": "code",
   "execution_count": null,
   "id": "4e7e7548",
   "metadata": {},
   "outputs": [],
   "source": [
    "!pygmentize /home/zbyszek/.ipython/profile_default/security/ipcontroller-client.json "
   ]
  },
  {
   "cell_type": "code",
   "execution_count": null,
   "id": "947c063f",
   "metadata": {},
   "outputs": [],
   "source": [
    "!bash -c 'urxvt -e htop & sleep 1'"
   ]
  },
  {
   "cell_type": "code",
   "execution_count": null,
   "id": "1c53490d",
   "metadata": {},
   "outputs": [],
   "source": [
    "!bash -c 'urxvt -e ipcluster engines & sleep 1'"
   ]
  },
  {
   "cell_type": "code",
   "execution_count": null,
   "id": "25c07d87",
   "metadata": {},
   "outputs": [],
   "source": []
  },
  {
   "cell_type": "code",
   "execution_count": null,
   "id": "97d4f69f",
   "metadata": {},
   "outputs": [],
   "source": [
    "import ipyparallel as ipp\n",
    "rc = ipp.Client()"
   ]
  },
  {
   "cell_type": "code",
   "execution_count": null,
   "id": "58bf4407",
   "metadata": {},
   "outputs": [],
   "source": [
    "rc.ids"
   ]
  },
  {
   "cell_type": "code",
   "execution_count": null,
   "id": "c1e90be3",
   "metadata": {},
   "outputs": [],
   "source": [
    "def hostname():\n",
    "    import socket\n",
    "    return socket.gethostname()"
   ]
  },
  {
   "cell_type": "code",
   "execution_count": null,
   "id": "160fb302",
   "metadata": {},
   "outputs": [],
   "source": [
    "rc[:].apply_sync(hostname)"
   ]
  },
  {
   "cell_type": "code",
   "execution_count": null,
   "id": "eb1681dc",
   "metadata": {},
   "outputs": [],
   "source": [
    "def f(x):\n",
    "    return x**4 - 3*x"
   ]
  },
  {
   "cell_type": "code",
   "execution_count": null,
   "id": "34488cc4",
   "metadata": {},
   "outputs": [],
   "source": [
    "def integrate(f, a, b, n):\n",
    "    dx = (b - a) / n\n",
    "    s = 0.0\n",
    "    x = a + 0.5 * dx\n",
    "    for i in range(n):\n",
    "        y = f(x)\n",
    "        s += y\n",
    "        x += dx\n",
    "    return s * dx"
   ]
  },
  {
   "cell_type": "code",
   "execution_count": null,
   "id": "1a5af321",
   "metadata": {},
   "outputs": [],
   "source": [
    "rc[:].push(dict(f=f)).wait()"
   ]
  },
  {
   "cell_type": "code",
   "execution_count": null,
   "id": "db5428f4",
   "metadata": {},
   "outputs": [],
   "source": []
  },
  {
   "cell_type": "code",
   "execution_count": null,
   "id": "bd5254b1",
   "metadata": {},
   "outputs": [],
   "source": []
  }
 ],
 "metadata": {
  "kernelspec": {
   "display_name": "Python 3 (ipykernel)",
   "language": "python",
   "name": "python3"
  },
  "language_info": {
   "codemirror_mode": {
    "name": "ipython",
    "version": 3
   },
   "file_extension": ".py",
   "mimetype": "text/x-python",
   "name": "python",
   "nbconvert_exporter": "python",
   "pygments_lexer": "ipython3",
   "version": "3.10.6"
  }
 },
 "nbformat": 4,
 "nbformat_minor": 5
}
