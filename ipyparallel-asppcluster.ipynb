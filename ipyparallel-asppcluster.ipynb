{
 "cells": [
  {
   "cell_type": "markdown",
   "id": "d6f62134",
   "metadata": {},
   "source": [
    "- The ipyparallel controller creates two files which contain information how to connect to the controller (address and authentication secrets).\n",
    "- To to connect our engines and clients to the cluster, we need to copy those files to our local machine.\n",
    "- We use `rsync`.\n",
    "\n",
    "The address changes, so replace `1.2.3.4` by the address shown on the projector."
   ]
  },
  {
   "cell_type": "code",
   "execution_count": null,
   "id": "0b675759",
   "metadata": {},
   "outputs": [],
   "source": [
    "!rsync -v 'student@1.2.3.4:.ipython/profile_default/security/ipcontroller-*.json' ~/.ipython/profile_default/security/"
   ]
  },
  {
   "cell_type": "markdown",
   "id": "ec86f1a7",
   "metadata": {},
   "source": [
    "Those files are just JSON. We can print them with syntax highlighting with `pygmentize`:"
   ]
  },
  {
   "cell_type": "code",
   "execution_count": null,
   "id": "398e06db",
   "metadata": {},
   "outputs": [],
   "source": [
    "!pygmentize /home/zbyszek/.ipython/profile_default/security/ipcontroller-engine.json "
   ]
  },
  {
   "cell_type": "code",
   "execution_count": null,
   "id": "4e7e7548",
   "metadata": {},
   "outputs": [],
   "source": [
    "!pygmentize /home/zbyszek/.ipython/profile_default/security/ipcontroller-client.json "
   ]
  },
  {
   "cell_type": "markdown",
   "id": "84e30897",
   "metadata": {},
   "source": [
    "This starts `htop` in a terminal window to monitor running processes.\n",
    "\n",
    "If you prefer, start `htop` manually in some terminal window."
   ]
  },
  {
   "cell_type": "code",
   "execution_count": null,
   "id": "947c063f",
   "metadata": {},
   "outputs": [],
   "source": [
    "!bash -c 'urxvt -e htop & sleep 3'"
   ]
  },
  {
   "cell_type": "markdown",
   "id": "426de2d5",
   "metadata": {},
   "source": [
    "Now we start our ipcluster engines on the local machine.\n",
    "They will connect to the controller configured by the JSON `ipcontroller-engine.json`. "
   ]
  },
  {
   "cell_type": "code",
   "execution_count": null,
   "id": "1c53490d",
   "metadata": {},
   "outputs": [],
   "source": [
    "!bash -c 'urxvt -e ipcluster engines & sleep 3'"
   ]
  },
  {
   "cell_type": "code",
   "execution_count": null,
   "id": "97d4f69f",
   "metadata": {},
   "outputs": [],
   "source": [
    "import ipyparallel as ipp\n",
    "rc = ipp.Client()"
   ]
  },
  {
   "cell_type": "code",
   "execution_count": null,
   "id": "58bf4407",
   "metadata": {},
   "outputs": [],
   "source": [
    "rc.ids"
   ]
  },
  {
   "cell_type": "code",
   "execution_count": null,
   "id": "c1e90be3",
   "metadata": {},
   "outputs": [],
   "source": [
    "def hostname():\n",
    "    import socket\n",
    "    return socket.gethostname()"
   ]
  },
  {
   "cell_type": "code",
   "execution_count": null,
   "id": "160fb302",
   "metadata": {},
   "outputs": [],
   "source": [
    "rc[:].apply_sync(hostname)"
   ]
  },
  {
   "cell_type": "code",
   "execution_count": null,
   "id": "eb1681dc",
   "metadata": {},
   "outputs": [],
   "source": [
    "def f(x):\n",
    "    return x**4 - 3*x"
   ]
  },
  {
   "cell_type": "code",
   "execution_count": null,
   "id": "34488cc4",
   "metadata": {},
   "outputs": [],
   "source": [
    "def integrate(a, b, n):\n",
    "    dx = (b - a) / n\n",
    "    s = 0.0\n",
    "    x = a + 0.5 * dx\n",
    "    for i in range(n):\n",
    "        y = f(x)\n",
    "        s += y\n",
    "        x += dx\n",
    "    return s * dx"
   ]
  },
  {
   "cell_type": "code",
   "execution_count": null,
   "id": "1a5af321",
   "metadata": {},
   "outputs": [],
   "source": [
    "rc[:].push(dict(f=f)).wait()"
   ]
  },
  {
   "cell_type": "code",
   "execution_count": null,
   "id": "db5428f4",
   "metadata": {},
   "outputs": [],
   "source": [
    "stepcounts = list(range(10_000, 20_000, 10))\n",
    "a = [-2 for _ in stepcounts]\n",
    "b = [+2 for _ in stepcounts]"
   ]
  },
  {
   "cell_type": "code",
   "execution_count": null,
   "id": "89fe86f2",
   "metadata": {},
   "outputs": [],
   "source": [
    "%timeit -r 1 -n 1    list(map(integrate, a, b, stepcounts))"
   ]
  },
  {
   "cell_type": "code",
   "execution_count": null,
   "id": "bd5254b1",
   "metadata": {},
   "outputs": [],
   "source": [
    "%timeit -r 1 -n 1    rc[:].map_sync(integrate, a, b, stepcounts)"
   ]
  },
  {
   "cell_type": "code",
   "execution_count": null,
   "id": "77d06f96",
   "metadata": {},
   "outputs": [],
   "source": []
  }
 ],
 "metadata": {
  "kernelspec": {
   "display_name": "Python 3 (ipykernel)",
   "language": "python",
   "name": "python3"
  },
  "language_info": {
   "codemirror_mode": {
    "name": "ipython",
    "version": 3
   },
   "file_extension": ".py",
   "mimetype": "text/x-python",
   "name": "python",
   "nbconvert_exporter": "python",
   "pygments_lexer": "ipython3",
   "version": "3.10.6"
  }
 },
 "nbformat": 4,
 "nbformat_minor": 5
}
